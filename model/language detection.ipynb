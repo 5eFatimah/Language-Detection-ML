{
 "cells": [
  {
   "cell_type": "code",
   "execution_count": 7,
   "metadata": {},
   "outputs": [],
   "source": [
    "import pandas as pd\n",
    "import numpy as np\n",
    "from sklearn.feature_extraction.text import CountVectorizer\n",
    "from sklearn.model_selection import train_test_split\n",
    "from sklearn.naive_bayes import MultinomialNB\n",
    "import joblib"
   ]
  },
  {
   "cell_type": "code",
   "execution_count": 35,
   "metadata": {},
   "outputs": [],
   "source": [
    "# Load the dataset\n",
    "data = pd.read_csv(\"../data/dataset.csv\")"
   ]
  },
  {
   "cell_type": "code",
   "execution_count": 36,
   "metadata": {},
   "outputs": [
    {
     "name": "stdout",
     "output_type": "stream",
     "text": [
      "(10337, 2)\n",
      "                                                 Text Language\n",
      "0    Nature, in the broadest sense, is the natural...  English\n",
      "1   \"Nature\" can refer to the phenomena of the phy...  English\n",
      "2   The study of nature is a large, if not the onl...  English\n",
      "3   Although humans are part of nature, human acti...  English\n",
      "4   [1] The word nature is borrowed from the Old F...  English\n",
      "5   [2] In ancient philosophy, natura is mostly us...  English\n",
      "6   [3][4] \\nThe concept of nature as a whole, the...  English\n",
      "7   During the advent of modern scientific method ...  English\n",
      "8   [5][6] With the Industrial revolution, nature ...  English\n",
      "9   However, a vitalist vision of nature, closer t...  English\n",
      "10  [1] Within the various uses of the word today,...  English\n",
      "11  Nature can refer to the general realm of livin...  English\n",
      "12  It is often taken to mean the \"natural environ...  English\n",
      "13  For example, manufactured objects and human in...  English\n",
      "14  This more traditional concept of natural thing...  English\n",
      "15  Depending on the particular context, the term ...  English\n",
      "16  [1] Earth is the only planet known to support ...  English\n",
      "17  Within the solar system, it is third closest t...  English\n",
      "18  Its most prominent climatic features are its t...  English\n",
      "19  [7] Precipitation varies widely with location,...  English\n"
     ]
    }
   ],
   "source": [
    "# shape\n",
    "print(data.shape)\n",
    "# head\n",
    "print(data.head(20))"
   ]
  },
  {
   "cell_type": "code",
   "execution_count": 37,
   "metadata": {},
   "outputs": [
    {
     "name": "stdout",
     "output_type": "stream",
     "text": [
      "                 Text Language\n",
      "count           10337    10337\n",
      "unique          10267       17\n",
      "top     mijn excuses.  English\n",
      "freq                3     1385\n"
     ]
    }
   ],
   "source": [
    "# descriptions\n",
    "print(data.describe())"
   ]
  },
  {
   "cell_type": "code",
   "execution_count": 38,
   "metadata": {},
   "outputs": [
    {
     "name": "stdout",
     "output_type": "stream",
     "text": [
      "Text        0\n",
      "Language    0\n",
      "dtype: int64\n"
     ]
    }
   ],
   "source": [
    "# Check for null values\n",
    "print(data.isnull().sum())"
   ]
  },
  {
   "cell_type": "code",
   "execution_count": 39,
   "metadata": {},
   "outputs": [
    {
     "name": "stdout",
     "output_type": "stream",
     "text": [
      "Language\n",
      "English       1385\n",
      "French        1014\n",
      "Spanish        819\n",
      "Portugeese     739\n",
      "Italian        698\n",
      "Russian        692\n",
      "Sweedish       676\n",
      "Malayalam      594\n",
      "Dutch          546\n",
      "Arabic         536\n",
      "Turkish        474\n",
      "German         470\n",
      "Tamil          469\n",
      "Danish         428\n",
      "Kannada        369\n",
      "Greek          365\n",
      "Hindi           63\n",
      "Name: count, dtype: int64\n"
     ]
    }
   ],
   "source": [
    "# View language value counts\n",
    "print(data[\"Language\"].value_counts())"
   ]
  },
  {
   "cell_type": "code",
   "execution_count": 40,
   "metadata": {},
   "outputs": [
    {
     "name": "stdout",
     "output_type": "stream",
     "text": [
      "<Compressed Sparse Row sparse matrix of dtype 'int64'\n",
      "\twith 163190 stored elements and shape (10337, 39928)>\n",
      "  Coords\tValues\n",
      "  (0, 16925)\t1\n",
      "  (0, 12833)\t1\n",
      "  (0, 24867)\t2\n",
      "  (0, 3809)\t1\n",
      "  (0, 22461)\t1\n",
      "  (0, 13674)\t1\n",
      "  (0, 16915)\t1\n",
      "  (0, 18946)\t1\n",
      "  (0, 15807)\t1\n",
      "  (0, 27569)\t1\n",
      "  (0, 17998)\t1\n",
      "  (0, 25847)\t1\n",
      "  (1, 16925)\t1\n",
      "  (1, 12833)\t1\n",
      "  (1, 24867)\t2\n",
      "  (1, 18946)\t1\n",
      "  (1, 27569)\t1\n",
      "  (1, 4068)\t1\n",
      "  (1, 20888)\t1\n",
      "  (1, 25057)\t2\n",
      "  (1, 18911)\t1\n",
      "  (1, 17617)\t1\n",
      "  (1, 1603)\t1\n",
      "  (1, 1392)\t1\n",
      "  (1, 15023)\t1\n",
      "  :\t:\n",
      "  (10334, 38523)\t1\n",
      "  (10334, 38849)\t1\n",
      "  (10334, 38526)\t1\n",
      "  (10334, 38813)\t1\n",
      "  (10334, 38587)\t1\n",
      "  (10334, 38991)\t1\n",
      "  (10334, 38835)\t1\n",
      "  (10334, 38995)\t1\n",
      "  (10335, 9065)\t1\n",
      "  (10335, 38570)\t1\n",
      "  (10335, 38815)\t1\n",
      "  (10335, 38526)\t1\n",
      "  (10335, 38770)\t1\n",
      "  (10336, 38592)\t1\n",
      "  (10336, 38954)\t1\n",
      "  (10336, 38817)\t1\n",
      "  (10336, 38666)\t1\n",
      "  (10336, 38541)\t1\n",
      "  (10336, 38637)\t1\n",
      "  (10336, 38521)\t1\n",
      "  (10336, 38707)\t1\n",
      "  (10336, 38604)\t1\n",
      "  (10336, 38874)\t1\n",
      "  (10336, 38563)\t1\n",
      "  (10336, 38946)\t1\n"
     ]
    }
   ],
   "source": [
    "# Prepare the features\n",
    "x = np.array(data[\"Text\"])\n",
    "y = np.array(data[\"Language\"])\n",
    "\n",
    "# Initialize the CountVectorizer and fit it to the text data\n",
    "cv = CountVectorizer()\n",
    "X = cv.fit_transform(x)\n",
    "print(X)"
   ]
  },
  {
   "cell_type": "code",
   "execution_count": 41,
   "metadata": {},
   "outputs": [
    {
     "name": "stdout",
     "output_type": "stream",
     "text": [
      "Model Accuracy: 98.40%\n"
     ]
    }
   ],
   "source": [
    "# Split the data into training and testing sets\n",
    "X_train, X_test, y_train, y_test = train_test_split(X, y, test_size=0.20, random_state=1)\n",
    "\n",
    "# Initialize the model\n",
    "model = MultinomialNB()\n",
    "\n",
    "# Train the model\n",
    "model.fit(X_train, y_train)\n",
    "\n",
    "# Print model accuracy\n",
    "print(f\"Model Accuracy: {(model.score(X_test, y_test)) * 100:.2f}%\")"
   ]
  },
  {
   "cell_type": "code",
   "execution_count": 42,
   "metadata": {},
   "outputs": [
    {
     "data": {
      "text/plain": [
       "['../model/count_vectorizer.pkl']"
      ]
     },
     "execution_count": 42,
     "metadata": {},
     "output_type": "execute_result"
    }
   ],
   "source": [
    "# Save the trained model using joblib\n",
    "joblib.dump(model, '../model/lang_detect.pkl')\n",
    "\n",
    "# Save the CountVectorizer\n",
    "joblib.dump(cv, '../model/count_vectorizer.pkl')"
   ]
  }
 ],
 "metadata": {
  "kernelspec": {
   "display_name": "Python 3",
   "language": "python",
   "name": "python3"
  },
  "language_info": {
   "codemirror_mode": {
    "name": "ipython",
    "version": 3
   },
   "file_extension": ".py",
   "mimetype": "text/x-python",
   "name": "python",
   "nbconvert_exporter": "python",
   "pygments_lexer": "ipython3",
   "version": "3.12.6"
  }
 },
 "nbformat": 4,
 "nbformat_minor": 2
}
